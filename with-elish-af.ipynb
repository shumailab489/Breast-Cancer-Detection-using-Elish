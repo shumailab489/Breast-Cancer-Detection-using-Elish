{
 "cells": [
  {
   "cell_type": "code",
   "execution_count": 1,
   "id": "e444d581",
   "metadata": {
    "execution": {
     "iopub.execute_input": "2024-03-09T13:20:54.543070Z",
     "iopub.status.busy": "2024-03-09T13:20:54.542754Z",
     "iopub.status.idle": "2024-03-09T13:21:09.304561Z",
     "shell.execute_reply": "2024-03-09T13:21:09.303739Z"
    },
    "papermill": {
     "duration": 14.770156,
     "end_time": "2024-03-09T13:21:09.307035",
     "exception": false,
     "start_time": "2024-03-09T13:20:54.536879",
     "status": "completed"
    },
    "tags": []
   },
   "outputs": [
    {
     "name": "stderr",
     "output_type": "stream",
     "text": [
      "2024-03-09 13:20:57.466748: E external/local_xla/xla/stream_executor/cuda/cuda_dnn.cc:9261] Unable to register cuDNN factory: Attempting to register factory for plugin cuDNN when one has already been registered\n",
      "2024-03-09 13:20:57.466851: E external/local_xla/xla/stream_executor/cuda/cuda_fft.cc:607] Unable to register cuFFT factory: Attempting to register factory for plugin cuFFT when one has already been registered\n",
      "2024-03-09 13:20:57.621284: E external/local_xla/xla/stream_executor/cuda/cuda_blas.cc:1515] Unable to register cuBLAS factory: Attempting to register factory for plugin cuBLAS when one has already been registered\n"
     ]
    }
   ],
   "source": [
    "import numpy as np \n",
    "import pandas as pd \n",
    "import os\n",
    "import shutil\n",
    "import glob\n",
    "import random\n",
    "from tensorflow.keras.preprocessing.image import ImageDataGenerator\n",
    "import tensorflow as tf"
   ]
  },
  {
   "cell_type": "code",
   "execution_count": 2,
   "id": "bfbc4c42",
   "metadata": {
    "execution": {
     "iopub.execute_input": "2024-03-09T13:21:09.318253Z",
     "iopub.status.busy": "2024-03-09T13:21:09.317700Z",
     "iopub.status.idle": "2024-03-09T13:21:09.327325Z",
     "shell.execute_reply": "2024-03-09T13:21:09.326487Z"
    },
    "papermill": {
     "duration": 0.016928,
     "end_time": "2024-03-09T13:21:09.329116",
     "exception": false,
     "start_time": "2024-03-09T13:21:09.312188",
     "status": "completed"
    },
    "tags": []
   },
   "outputs": [],
   "source": [
    "def create_data_path(base_path,input_path):\n",
    "    try:\n",
    "        os.makedirs(os.path.join(base_path,'training'))\n",
    "        os.makedirs(os.path.join(base_path, 'training/0'))\n",
    "        os.makedirs(os.path.join(base_path, 'training/1'))\n",
    "        os.makedirs(os.path.join(base_path,'validation'))\n",
    "        os.makedirs(os.path.join(base_path, 'validation/1'))\n",
    "        os.makedirs(os.path.join(base_path, 'validation/0'))\n",
    "    except:\n",
    "        print(\"the folders already exist\")\n",
    "    list_dir=glob.glob(os.path.join(input_path,'*'))\n",
    "    print(list_dir)\n",
    "    for id in list_dir:\n",
    "        list_file_0=glob.glob(os.path.join(id,'0/*'))\n",
    "        list_file_1= glob.glob(os.path.join(id, '1/*'))\n",
    "        for file_0 in list_file_0:\n",
    "            src_path = file_0\n",
    "            dst_path = os.path.join(os.path.join(base_path, 'training/0'), os.path.basename(file_0))\n",
    "            shutil.copy(src_path, dst_path)\n",
    "\n",
    "        for file_1 in list_file_1:\n",
    "            src_path = file_1\n",
    "            dst_path = os.path.join(os.path.join(base_path, 'training/1'), os.path.basename(file_1))\n",
    "            shutil.copy(src_path, dst_path)\n",
    "            "
   ]
  },
  {
   "cell_type": "code",
   "execution_count": 3,
   "id": "518d61d1",
   "metadata": {
    "execution": {
     "iopub.execute_input": "2024-03-09T13:21:09.339594Z",
     "iopub.status.busy": "2024-03-09T13:21:09.339322Z",
     "iopub.status.idle": "2024-03-09T13:21:09.344145Z",
     "shell.execute_reply": "2024-03-09T13:21:09.343328Z"
    },
    "papermill": {
     "duration": 0.012367,
     "end_time": "2024-03-09T13:21:09.346159",
     "exception": false,
     "start_time": "2024-03-09T13:21:09.333792",
     "status": "completed"
    },
    "tags": []
   },
   "outputs": [],
   "source": [
    "def remove_dir(base_path):\n",
    "    try:\n",
    "        shutil.rmtree(os.path.join(base_path,'training'))\n",
    "        shutil.rmtree(os.path.join(base_path,'validation'))\n",
    "    except Exception as e:\n",
    "        print(\"problem removing directories\")\n",
    "        print(str(e))"
   ]
  },
  {
   "cell_type": "code",
   "execution_count": 4,
   "id": "bd88686c",
   "metadata": {
    "execution": {
     "iopub.execute_input": "2024-03-09T13:21:09.356118Z",
     "iopub.status.busy": "2024-03-09T13:21:09.355791Z",
     "iopub.status.idle": "2024-03-09T13:21:09.359908Z",
     "shell.execute_reply": "2024-03-09T13:21:09.359135Z"
    },
    "papermill": {
     "duration": 0.011387,
     "end_time": "2024-03-09T13:21:09.362007",
     "exception": false,
     "start_time": "2024-03-09T13:21:09.350620",
     "status": "completed"
    },
    "tags": []
   },
   "outputs": [
    {
     "name": "stdout",
     "output_type": "stream",
     "text": [
      "problem removing directories\n",
      "[Errno 2] No such file or directory: '/kaggle/working/training'\n"
     ]
    }
   ],
   "source": [
    "#for cleanup\n",
    "remove_dir('/kaggle/working/')"
   ]
  },
  {
   "cell_type": "code",
   "execution_count": 5,
   "id": "cd4f48db",
   "metadata": {
    "execution": {
     "iopub.execute_input": "2024-03-09T13:21:09.372156Z",
     "iopub.status.busy": "2024-03-09T13:21:09.371873Z",
     "iopub.status.idle": "2024-03-09T13:50:27.004569Z",
     "shell.execute_reply": "2024-03-09T13:50:27.003671Z"
    },
    "papermill": {
     "duration": 1757.640465,
     "end_time": "2024-03-09T13:50:27.007099",
     "exception": false,
     "start_time": "2024-03-09T13:21:09.366634",
     "status": "completed"
    },
    "tags": []
   },
   "outputs": [
    {
     "name": "stdout",
     "output_type": "stream",
     "text": [
      "['/kaggle/input/breast-histopathology-images/10295', '/kaggle/input/breast-histopathology-images/10304', '/kaggle/input/breast-histopathology-images/12868', '/kaggle/input/breast-histopathology-images/10274', '/kaggle/input/breast-histopathology-images/12818', '/kaggle/input/breast-histopathology-images/14190', '/kaggle/input/breast-histopathology-images/12869', '/kaggle/input/breast-histopathology-images/9323', '/kaggle/input/breast-histopathology-images/10291', '/kaggle/input/breast-histopathology-images/12906', '/kaggle/input/breast-histopathology-images/9176', '/kaggle/input/breast-histopathology-images/8984', '/kaggle/input/breast-histopathology-images/10299', '/kaggle/input/breast-histopathology-images/12930', '/kaggle/input/breast-histopathology-images/9344', '/kaggle/input/breast-histopathology-images/12935', '/kaggle/input/breast-histopathology-images/12894', '/kaggle/input/breast-histopathology-images/12909', '/kaggle/input/breast-histopathology-images/9381', '/kaggle/input/breast-histopathology-images/9346', '/kaggle/input/breast-histopathology-images/9175', '/kaggle/input/breast-histopathology-images/10262', '/kaggle/input/breast-histopathology-images/8980', '/kaggle/input/breast-histopathology-images/16896', '/kaggle/input/breast-histopathology-images/12241', '/kaggle/input/breast-histopathology-images/12910', '/kaggle/input/breast-histopathology-images/13617', '/kaggle/input/breast-histopathology-images/13401', '/kaggle/input/breast-histopathology-images/12891', '/kaggle/input/breast-histopathology-images/10300', '/kaggle/input/breast-histopathology-images/9076', '/kaggle/input/breast-histopathology-images/10259', '/kaggle/input/breast-histopathology-images/9124', '/kaggle/input/breast-histopathology-images/13402', '/kaggle/input/breast-histopathology-images/12870', '/kaggle/input/breast-histopathology-images/16550', '/kaggle/input/breast-histopathology-images/10255', '/kaggle/input/breast-histopathology-images/9261', '/kaggle/input/breast-histopathology-images/15471', '/kaggle/input/breast-histopathology-images/12931', '/kaggle/input/breast-histopathology-images/12955', '/kaggle/input/breast-histopathology-images/10258', '/kaggle/input/breast-histopathology-images/13461', '/kaggle/input/breast-histopathology-images/13023', '/kaggle/input/breast-histopathology-images/9260', '/kaggle/input/breast-histopathology-images/8957', '/kaggle/input/breast-histopathology-images/9035', '/kaggle/input/breast-histopathology-images/10268', '/kaggle/input/breast-histopathology-images/13403', '/kaggle/input/breast-histopathology-images/10288', '/kaggle/input/breast-histopathology-images/9262', '/kaggle/input/breast-histopathology-images/12911', '/kaggle/input/breast-histopathology-images/9319', '/kaggle/input/breast-histopathology-images/10254', '/kaggle/input/breast-histopathology-images/13616', '/kaggle/input/breast-histopathology-images/10253', '/kaggle/input/breast-histopathology-images/8974', '/kaggle/input/breast-histopathology-images/9135', '/kaggle/input/breast-histopathology-images/10257', '/kaggle/input/breast-histopathology-images/9291', '/kaggle/input/breast-histopathology-images/9320', '/kaggle/input/breast-histopathology-images/14209', '/kaggle/input/breast-histopathology-images/14078', '/kaggle/input/breast-histopathology-images/12749', '/kaggle/input/breast-histopathology-images/9043', '/kaggle/input/breast-histopathology-images/9041', '/kaggle/input/breast-histopathology-images/8975', '/kaggle/input/breast-histopathology-images/9075', '/kaggle/input/breast-histopathology-images/13025', '/kaggle/input/breast-histopathology-images/13021', '/kaggle/input/breast-histopathology-images/13458', '/kaggle/input/breast-histopathology-images/12901', '/kaggle/input/breast-histopathology-images/16552', '/kaggle/input/breast-histopathology-images/13688', '/kaggle/input/breast-histopathology-images/15902', '/kaggle/input/breast-histopathology-images/13692', '/kaggle/input/breast-histopathology-images/12879', '/kaggle/input/breast-histopathology-images/9073', '/kaggle/input/breast-histopathology-images/15514', '/kaggle/input/breast-histopathology-images/9325', '/kaggle/input/breast-histopathology-images/10277', '/kaggle/input/breast-histopathology-images/12810', '/kaggle/input/breast-histopathology-images/8864', '/kaggle/input/breast-histopathology-images/8917', '/kaggle/input/breast-histopathology-images/14305', '/kaggle/input/breast-histopathology-images/16167', '/kaggle/input/breast-histopathology-images/13022', '/kaggle/input/breast-histopathology-images/16555', '/kaggle/input/breast-histopathology-images/12932', '/kaggle/input/breast-histopathology-images/14189', '/kaggle/input/breast-histopathology-images/8867', '/kaggle/input/breast-histopathology-images/16166', '/kaggle/input/breast-histopathology-images/10290', '/kaggle/input/breast-histopathology-images/9083', '/kaggle/input/breast-histopathology-images/15840', '/kaggle/input/breast-histopathology-images/12907', '/kaggle/input/breast-histopathology-images/12880', '/kaggle/input/breast-histopathology-images/12908', '/kaggle/input/breast-histopathology-images/13693', '/kaggle/input/breast-histopathology-images/13591', '/kaggle/input/breast-histopathology-images/15516', '/kaggle/input/breast-histopathology-images/9228', '/kaggle/input/breast-histopathology-images/14192', '/kaggle/input/breast-histopathology-images/12949', '/kaggle/input/breast-histopathology-images/10306', '/kaggle/input/breast-histopathology-images/9345', '/kaggle/input/breast-histopathology-images/14156', '/kaggle/input/breast-histopathology-images/12872', '/kaggle/input/breast-histopathology-images/9123', '/kaggle/input/breast-histopathology-images/13019', '/kaggle/input/breast-histopathology-images/9226', '/kaggle/input/breast-histopathology-images/14304', '/kaggle/input/breast-histopathology-images/10260', '/kaggle/input/breast-histopathology-images/14154', '/kaggle/input/breast-histopathology-images/15472', '/kaggle/input/breast-histopathology-images/15903', '/kaggle/input/breast-histopathology-images/12826', '/kaggle/input/breast-histopathology-images/13020', '/kaggle/input/breast-histopathology-images/16569', '/kaggle/input/breast-histopathology-images/14191', '/kaggle/input/breast-histopathology-images/16568', '/kaggle/input/breast-histopathology-images/16570', '/kaggle/input/breast-histopathology-images/13459', '/kaggle/input/breast-histopathology-images/8956', '/kaggle/input/breast-histopathology-images/13106', '/kaggle/input/breast-histopathology-images/10261', '/kaggle/input/breast-histopathology-images/9023', '/kaggle/input/breast-histopathology-images/13460', '/kaggle/input/breast-histopathology-images/16532', '/kaggle/input/breast-histopathology-images/12819', '/kaggle/input/breast-histopathology-images/12867', '/kaggle/input/breast-histopathology-images/8959', '/kaggle/input/breast-histopathology-images/9265', '/kaggle/input/breast-histopathology-images/9255', '/kaggle/input/breast-histopathology-images/14082', '/kaggle/input/breast-histopathology-images/12929', '/kaggle/input/breast-histopathology-images/8914', '/kaggle/input/breast-histopathology-images/9383', '/kaggle/input/breast-histopathology-images/14210', '/kaggle/input/breast-histopathology-images/10302', '/kaggle/input/breast-histopathology-images/12822', '/kaggle/input/breast-histopathology-images/10276', '/kaggle/input/breast-histopathology-images/10279', '/kaggle/input/breast-histopathology-images/12876', '/kaggle/input/breast-histopathology-images/10269', '/kaggle/input/breast-histopathology-images/8865', '/kaggle/input/breast-histopathology-images/13400', '/kaggle/input/breast-histopathology-images/12948', '/kaggle/input/breast-histopathology-images/12748', '/kaggle/input/breast-histopathology-images/9126', '/kaggle/input/breast-histopathology-images/9266', '/kaggle/input/breast-histopathology-images/9177', '/kaggle/input/breast-histopathology-images/8955', '/kaggle/input/breast-histopathology-images/12900', '/kaggle/input/breast-histopathology-images/9181', '/kaggle/input/breast-histopathology-images/9257', '/kaggle/input/breast-histopathology-images/9322', '/kaggle/input/breast-histopathology-images/12751', '/kaggle/input/breast-histopathology-images/9081', '/kaggle/input/breast-histopathology-images/15634', '/kaggle/input/breast-histopathology-images/10286', '/kaggle/input/breast-histopathology-images/14213', '/kaggle/input/breast-histopathology-images/9256', '/kaggle/input/breast-histopathology-images/10308', '/kaggle/input/breast-histopathology-images/16165', '/kaggle/input/breast-histopathology-images/12823', '/kaggle/input/breast-histopathology-images/9225', '/kaggle/input/breast-histopathology-images/9227', '/kaggle/input/breast-histopathology-images/16551', '/kaggle/input/breast-histopathology-images/13613', '/kaggle/input/breast-histopathology-images/14306', '/kaggle/input/breast-histopathology-images/16085', '/kaggle/input/breast-histopathology-images/16534', '/kaggle/input/breast-histopathology-images/14188', '/kaggle/input/breast-histopathology-images/14212', '/kaggle/input/breast-histopathology-images/12824', '/kaggle/input/breast-histopathology-images/16554', '/kaggle/input/breast-histopathology-images/13691', '/kaggle/input/breast-histopathology-images/13916', '/kaggle/input/breast-histopathology-images/12877', '/kaggle/input/breast-histopathology-images/13024', '/kaggle/input/breast-histopathology-images/10264', '/kaggle/input/breast-histopathology-images/12884', '/kaggle/input/breast-histopathology-images/12750', '/kaggle/input/breast-histopathology-images/14081', '/kaggle/input/breast-histopathology-images/15473', '/kaggle/input/breast-histopathology-images/15839', '/kaggle/input/breast-histopathology-images/12896', '/kaggle/input/breast-histopathology-images/9267', '/kaggle/input/breast-histopathology-images/10278', '/kaggle/input/breast-histopathology-images/16533', '/kaggle/input/breast-histopathology-images/13404', '/kaggle/input/breast-histopathology-images/12893', '/kaggle/input/breast-histopathology-images/12892', '/kaggle/input/breast-histopathology-images/9125', '/kaggle/input/breast-histopathology-images/9029', '/kaggle/input/breast-histopathology-images/14211', '/kaggle/input/breast-histopathology-images/12626', '/kaggle/input/breast-histopathology-images/10275', '/kaggle/input/breast-histopathology-images/9174', '/kaggle/input/breast-histopathology-images/9250', '/kaggle/input/breast-histopathology-images/15515', '/kaggle/input/breast-histopathology-images/9173', '/kaggle/input/breast-histopathology-images/12895', '/kaggle/input/breast-histopathology-images/12897', '/kaggle/input/breast-histopathology-images/12882', '/kaggle/input/breast-histopathology-images/12875', '/kaggle/input/breast-histopathology-images/12905', '/kaggle/input/breast-histopathology-images/13666', '/kaggle/input/breast-histopathology-images/15633', '/kaggle/input/breast-histopathology-images/8863', '/kaggle/input/breast-histopathology-images/12934', '/kaggle/input/breast-histopathology-images/12890', '/kaggle/input/breast-histopathology-images/10305', '/kaggle/input/breast-histopathology-images/9036', '/kaggle/input/breast-histopathology-images/12883', '/kaggle/input/breast-histopathology-images/10307', '/kaggle/input/breast-histopathology-images/14153', '/kaggle/input/breast-histopathology-images/16531', '/kaggle/input/breast-histopathology-images/15632', '/kaggle/input/breast-histopathology-images/12820', '/kaggle/input/breast-histopathology-images/10272', '/kaggle/input/breast-histopathology-images/12871', '/kaggle/input/breast-histopathology-images/9382', '/kaggle/input/breast-histopathology-images/10256', '/kaggle/input/breast-histopathology-images/9258', '/kaggle/input/breast-histopathology-images/16014', '/kaggle/input/breast-histopathology-images/16895', '/kaggle/input/breast-histopathology-images/13462', '/kaggle/input/breast-histopathology-images/14079', '/kaggle/input/breast-histopathology-images/12817', '/kaggle/input/breast-histopathology-images/8918', '/kaggle/input/breast-histopathology-images/8916', '/kaggle/input/breast-histopathology-images/15510', '/kaggle/input/breast-histopathology-images/12878', '/kaggle/input/breast-histopathology-images/12242', '/kaggle/input/breast-histopathology-images/14321', '/kaggle/input/breast-histopathology-images/9044', '/kaggle/input/breast-histopathology-images/9324', '/kaggle/input/breast-histopathology-images/12933', '/kaggle/input/breast-histopathology-images/8951', '/kaggle/input/breast-histopathology-images/10273', '/kaggle/input/breast-histopathology-images/12811', '/kaggle/input/breast-histopathology-images/9078', '/kaggle/input/breast-histopathology-images/14157', '/kaggle/input/breast-histopathology-images/10282', '/kaggle/input/breast-histopathology-images/9290', '/kaggle/input/breast-histopathology-images/13694', '/kaggle/input/breast-histopathology-images/9321', '/kaggle/input/breast-histopathology-images/8950', '/kaggle/input/breast-histopathology-images/15513', '/kaggle/input/breast-histopathology-images/10285', '/kaggle/input/breast-histopathology-images/9022', '/kaggle/input/breast-histopathology-images/16553', '/kaggle/input/breast-histopathology-images/8913', '/kaggle/input/breast-histopathology-images/13018', '/kaggle/input/breast-histopathology-images/12821', '/kaggle/input/breast-histopathology-images/12951', '/kaggle/input/breast-histopathology-images/12898', '/kaggle/input/breast-histopathology-images/13687', '/kaggle/input/breast-histopathology-images/9178', '/kaggle/input/breast-histopathology-images/13689', '/kaggle/input/breast-histopathology-images/12947', '/kaggle/input/breast-histopathology-images/15512', '/kaggle/input/breast-histopathology-images/10303', '/kaggle/input/breast-histopathology-images/12881', '/kaggle/input/breast-histopathology-images/12886', '/kaggle/input/breast-histopathology-images/12752', '/kaggle/input/breast-histopathology-images/9347', '/kaggle/input/breast-histopathology-images/10301', '/kaggle/input/breast-histopathology-images/IDC_regular_ps50_idx5', '/kaggle/input/breast-histopathology-images/9254', '/kaggle/input/breast-histopathology-images/10293', '/kaggle/input/breast-histopathology-images/12954', '/kaggle/input/breast-histopathology-images/9259', '/kaggle/input/breast-histopathology-images/14155', '/kaggle/input/breast-histopathology-images/9077', '/kaggle/input/breast-histopathology-images/10292', '/kaggle/input/breast-histopathology-images/9037', '/kaggle/input/breast-histopathology-images/12873']\n"
     ]
    }
   ],
   "source": [
    "create_data_path('/kaggle/working/','/kaggle/input/breast-histopathology-images/')"
   ]
  },
  {
   "cell_type": "code",
   "execution_count": 6,
   "id": "fe02f856",
   "metadata": {
    "execution": {
     "iopub.execute_input": "2024-03-09T13:50:27.018896Z",
     "iopub.status.busy": "2024-03-09T13:50:27.018612Z",
     "iopub.status.idle": "2024-03-09T13:50:27.026130Z",
     "shell.execute_reply": "2024-03-09T13:50:27.025248Z"
    },
    "papermill": {
     "duration": 0.015421,
     "end_time": "2024-03-09T13:50:27.028069",
     "exception": false,
     "start_time": "2024-03-09T13:50:27.012648",
     "status": "completed"
    },
    "tags": []
   },
   "outputs": [],
   "source": [
    "def split_training_validation(base_path,split_size):\n",
    "    list_file_0=glob.glob(os.path.join(base_path,'training/0/*'))\n",
    "    list_file_1 = glob.glob(os.path.join(base_path, 'training/1/*'))\n",
    "    tot_file=list_file_1+list_file_0\n",
    "    random.shuffle(tot_file)\n",
    "    training_set=tot_file[0:int(len(tot_file)*split_size)]\n",
    "    validation_set=tot_file[int(len(tot_file)*split_size):]\n",
    "    for file in validation_set:\n",
    "        if file[-5]=='0':\n",
    "            dst_path = os.path.join(os.path.join(base_path, 'validation/0'), os.path.basename(file))\n",
    "            shutil.copy(file, dst_path)\n",
    "        elif file[-5]=='1':\n",
    "            dst_path = os.path.join(os.path.join(base_path, 'validation/1'), os.path.basename(file))\n",
    "            shutil.copy(file, dst_path)"
   ]
  },
  {
   "cell_type": "code",
   "execution_count": 7,
   "id": "3bf8b616",
   "metadata": {
    "execution": {
     "iopub.execute_input": "2024-03-09T13:50:27.038812Z",
     "iopub.status.busy": "2024-03-09T13:50:27.038547Z",
     "iopub.status.idle": "2024-03-09T13:50:35.539915Z",
     "shell.execute_reply": "2024-03-09T13:50:35.539155Z"
    },
    "papermill": {
     "duration": 8.5093,
     "end_time": "2024-03-09T13:50:35.542243",
     "exception": false,
     "start_time": "2024-03-09T13:50:27.032943",
     "status": "completed"
    },
    "tags": []
   },
   "outputs": [],
   "source": [
    "training_split=0.8\n",
    "split_training_validation('/kaggle/working/',training_split)"
   ]
  },
  {
   "cell_type": "code",
   "execution_count": 8,
   "id": "95280a9e",
   "metadata": {
    "execution": {
     "iopub.execute_input": "2024-03-09T13:50:35.553537Z",
     "iopub.status.busy": "2024-03-09T13:50:35.552974Z",
     "iopub.status.idle": "2024-03-09T13:50:35.559332Z",
     "shell.execute_reply": "2024-03-09T13:50:35.558384Z"
    },
    "papermill": {
     "duration": 0.01398,
     "end_time": "2024-03-09T13:50:35.561289",
     "exception": false,
     "start_time": "2024-03-09T13:50:35.547309",
     "status": "completed"
    },
    "tags": []
   },
   "outputs": [],
   "source": [
    "def create_data_generator(base_path,target_size):\n",
    "    # All images will be rescaled by 1./255\n",
    "    train_datagen = ImageDataGenerator(rescale=1 / 255)\n",
    "    validation_datagen = ImageDataGenerator(rescale=1 / 255)\n",
    "\n",
    "    # Flow training images in batches of 128 using train_datagen generator\n",
    "    train_generator = train_datagen.flow_from_directory(\n",
    "        os.path.join(base_path,'training/'),  # This is the source directory for training images\n",
    "        target_size=target_size,  # All images will be resized to 300x300\n",
    "        batch_size=64,\n",
    "        # Since you use binary_crossentropy loss, you need binary labels\n",
    "        class_mode='binary')\n",
    "\n",
    "    # Flow validation images in batches of 128 using validation_datagen generator\n",
    "    validation_generator = validation_datagen.flow_from_directory(\n",
    "        os.path.join(base_path,'validation/'),  # This is the source directory for validation images\n",
    "        target_size=target_size,  \n",
    "        batch_size=32,\n",
    "        # Since you use binary_crossentropy loss, you need binary labels\n",
    "        class_mode='binary')\n",
    "    return train_generator,validation_generator"
   ]
  },
  {
   "cell_type": "code",
   "execution_count": 9,
   "id": "fdef67b6",
   "metadata": {
    "execution": {
     "iopub.execute_input": "2024-03-09T13:50:35.572319Z",
     "iopub.status.busy": "2024-03-09T13:50:35.572048Z",
     "iopub.status.idle": "2024-03-09T13:50:44.013433Z",
     "shell.execute_reply": "2024-03-09T13:50:44.012625Z"
    },
    "papermill": {
     "duration": 8.44934,
     "end_time": "2024-03-09T13:50:44.015635",
     "exception": false,
     "start_time": "2024-03-09T13:50:35.566295",
     "status": "completed"
    },
    "tags": []
   },
   "outputs": [
    {
     "name": "stdout",
     "output_type": "stream",
     "text": [
      "Found 277524 images belonging to 2 classes.\n",
      "Found 55505 images belonging to 2 classes.\n"
     ]
    }
   ],
   "source": [
    "train_generator,validation_generator=create_data_generator('/kaggle/working/',(50,50))"
   ]
  },
  {
   "cell_type": "code",
   "execution_count": 10,
   "id": "7d4c5787",
   "metadata": {
    "execution": {
     "iopub.execute_input": "2024-03-09T13:50:44.027125Z",
     "iopub.status.busy": "2024-03-09T13:50:44.026809Z",
     "iopub.status.idle": "2024-03-09T13:50:44.032004Z",
     "shell.execute_reply": "2024-03-09T13:50:44.031131Z"
    },
    "papermill": {
     "duration": 0.012935,
     "end_time": "2024-03-09T13:50:44.033854",
     "exception": false,
     "start_time": "2024-03-09T13:50:44.020919",
     "status": "completed"
    },
    "tags": []
   },
   "outputs": [],
   "source": [
    "class CustomCallback(tf.keras.callbacks.Callback):\n",
    "\n",
    "    def on_epoch_end(self, epoch, logs=None):\n",
    "        keys = list(logs.keys())\n",
    "        if (logs.get('val_accuracy') > 0.95):\n",
    "            print(\"\\nReached 95% accuracy so cancelling training!\")\n",
    "            self.model.stop_training = True"
   ]
  },
  {
   "cell_type": "code",
   "execution_count": 11,
   "id": "2e880c61",
   "metadata": {
    "execution": {
     "iopub.execute_input": "2024-03-09T13:50:44.045092Z",
     "iopub.status.busy": "2024-03-09T13:50:44.044429Z",
     "iopub.status.idle": "2024-03-09T13:50:44.054375Z",
     "shell.execute_reply": "2024-03-09T13:50:44.053537Z"
    },
    "papermill": {
     "duration": 0.017682,
     "end_time": "2024-03-09T13:50:44.056452",
     "exception": false,
     "start_time": "2024-03-09T13:50:44.038770",
     "status": "completed"
    },
    "tags": []
   },
   "outputs": [],
   "source": [
    "# Function to define Elish Activation\n",
    "import tensorflow as tf\n",
    "\n",
    "def elish(x):\n",
    "    return x * tf.tanh(tf.nn.elu(x))\n",
    "\n",
    "def create_model(input_shape):\n",
    "    model = tf.keras.models.Sequential([\n",
    "        \n",
    "        # This is the first convolution\n",
    "        tf.keras.layers.Conv2D(64, (3, 3), activation=elish, input_shape=input_shape),\n",
    "        tf.keras.layers.BatchNormalization(),\n",
    "        tf.keras.layers.MaxPooling2D(2, 2),\n",
    "        tf.keras.layers.Conv2D(128, (3, 3), activation=elish, input_shape=input_shape),\n",
    "        tf.keras.layers.BatchNormalization(),\n",
    "        tf.keras.layers.MaxPooling2D(2, 2),\n",
    "        tf.keras.layers.Conv2D(256, (3, 3), activation=elish, input_shape=input_shape),\n",
    "        tf.keras.layers.BatchNormalization(),\n",
    "        tf.keras.layers.MaxPooling2D(2, 2),\n",
    "        # Flatten the results to feed into a DNN\n",
    "        tf.keras.layers.Flatten(),\n",
    "        # 512 neuron hidden layer\n",
    "        tf.keras.layers.Dense(128, activation=elish),\n",
    "        tf.keras.layers.Dense(512, activation=elish),\n",
    "        tf.keras.layers.Dropout(0.4),\n",
    "\n",
    "        # Only 1 output neuron. \n",
    "        tf.keras.layers.Dense(1, activation='sigmoid')\n",
    "    ])\n",
    "    my_cb=CustomCallback()\n",
    "    \n",
    "    reduce_lr=tf.keras.callbacks.ReduceLROnPlateau(monitor='val_loss',verbose=1)\n",
    "\n",
    "    model_cp=tf.keras.callbacks.ModelCheckpoint('/kaggle/output',verbose=1)\n",
    "    model.compile(loss='binary_crossentropy',\n",
    "                  optimizer=tf.keras.optimizers.Adam(learning_rate=0.0001),\n",
    "                  metrics=['accuracy'])\n",
    "    return model,[reduce_lr,model_cp]"
   ]
  },
  {
   "cell_type": "code",
   "execution_count": 12,
   "id": "bf58a5dc",
   "metadata": {
    "execution": {
     "iopub.execute_input": "2024-03-09T13:50:44.067589Z",
     "iopub.status.busy": "2024-03-09T13:50:44.067326Z",
     "iopub.status.idle": "2024-03-09T15:49:58.507591Z",
     "shell.execute_reply": "2024-03-09T15:49:58.506778Z"
    },
    "papermill": {
     "duration": 7154.448129,
     "end_time": "2024-03-09T15:49:58.509607",
     "exception": false,
     "start_time": "2024-03-09T13:50:44.061478",
     "status": "completed"
    },
    "tags": []
   },
   "outputs": [
    {
     "name": "stdout",
     "output_type": "stream",
     "text": [
      "Model: \"sequential\"\n",
      "_________________________________________________________________\n",
      " Layer (type)                Output Shape              Param #   \n",
      "=================================================================\n",
      " conv2d (Conv2D)             (None, 48, 48, 64)        1792      \n",
      "                                                                 \n",
      " batch_normalization (Batch  (None, 48, 48, 64)        256       \n",
      " Normalization)                                                  \n",
      "                                                                 \n",
      " max_pooling2d (MaxPooling2  (None, 24, 24, 64)        0         \n",
      " D)                                                              \n",
      "                                                                 \n",
      " conv2d_1 (Conv2D)           (None, 22, 22, 128)       73856     \n",
      "                                                                 \n",
      " batch_normalization_1 (Bat  (None, 22, 22, 128)       512       \n",
      " chNormalization)                                                \n",
      "                                                                 \n",
      " max_pooling2d_1 (MaxPoolin  (None, 11, 11, 128)       0         \n",
      " g2D)                                                            \n",
      "                                                                 \n",
      " conv2d_2 (Conv2D)           (None, 9, 9, 256)         295168    \n",
      "                                                                 \n",
      " batch_normalization_2 (Bat  (None, 9, 9, 256)         1024      \n",
      " chNormalization)                                                \n",
      "                                                                 \n",
      " max_pooling2d_2 (MaxPoolin  (None, 4, 4, 256)         0         \n",
      " g2D)                                                            \n",
      "                                                                 \n",
      " flatten (Flatten)           (None, 4096)              0         \n",
      "                                                                 \n",
      " dense (Dense)               (None, 128)               524416    \n",
      "                                                                 \n",
      " dense_1 (Dense)             (None, 512)               66048     \n",
      "                                                                 \n",
      " dropout (Dropout)           (None, 512)               0         \n",
      "                                                                 \n",
      " dense_2 (Dense)             (None, 1)                 513       \n",
      "                                                                 \n",
      "=================================================================\n",
      "Total params: 963585 (3.68 MB)\n",
      "Trainable params: 962689 (3.67 MB)\n",
      "Non-trainable params: 896 (3.50 KB)\n",
      "_________________________________________________________________\n",
      "Epoch 1/50\n"
     ]
    },
    {
     "name": "stderr",
     "output_type": "stream",
     "text": [
      "WARNING: All log messages before absl::InitializeLog() is called are written to STDERR\n",
      "I0000 00:00:1709992251.128467      86 device_compiler.h:186] Compiled cluster using XLA!  This line is logged at most once for the lifetime of the process.\n"
     ]
    },
    {
     "name": "stdout",
     "output_type": "stream",
     "text": [
      "4337/4337 [==============================] - ETA: 0s - loss: 0.3841 - accuracy: 0.8387\n",
      "Epoch 1: saving model to /kaggle/output\n",
      "4337/4337 [==============================] - 160s 35ms/step - loss: 0.3841 - accuracy: 0.8387 - val_loss: 0.3684 - val_accuracy: 0.8468 - lr: 1.0000e-04\n",
      "Epoch 2/50\n",
      "4336/4337 [============================>.] - ETA: 0s - loss: 0.3299 - accuracy: 0.8614\n",
      "Epoch 2: saving model to /kaggle/output\n",
      "4337/4337 [==============================] - 144s 33ms/step - loss: 0.3299 - accuracy: 0.8614 - val_loss: 0.3192 - val_accuracy: 0.8706 - lr: 1.0000e-04\n",
      "Epoch 3/50\n",
      "4336/4337 [============================>.] - ETA: 0s - loss: 0.3075 - accuracy: 0.8713\n",
      "Epoch 3: saving model to /kaggle/output\n",
      "4337/4337 [==============================] - 143s 33ms/step - loss: 0.3075 - accuracy: 0.8713 - val_loss: 0.3579 - val_accuracy: 0.8387 - lr: 1.0000e-04\n",
      "Epoch 4/50\n",
      "4336/4337 [============================>.] - ETA: 0s - loss: 0.2910 - accuracy: 0.8776\n",
      "Epoch 4: saving model to /kaggle/output\n",
      "4337/4337 [==============================] - 143s 33ms/step - loss: 0.2910 - accuracy: 0.8776 - val_loss: 0.3407 - val_accuracy: 0.8639 - lr: 1.0000e-04\n",
      "Epoch 5/50\n",
      "4336/4337 [============================>.] - ETA: 0s - loss: 0.2778 - accuracy: 0.8841\n",
      "Epoch 5: saving model to /kaggle/output\n",
      "4337/4337 [==============================] - 144s 33ms/step - loss: 0.2778 - accuracy: 0.8841 - val_loss: 0.7681 - val_accuracy: 0.6468 - lr: 1.0000e-04\n",
      "Epoch 6/50\n",
      "4337/4337 [==============================] - ETA: 0s - loss: 0.2640 - accuracy: 0.8902\n",
      "Epoch 6: saving model to /kaggle/output\n",
      "4337/4337 [==============================] - 145s 33ms/step - loss: 0.2640 - accuracy: 0.8902 - val_loss: 0.3498 - val_accuracy: 0.8796 - lr: 1.0000e-04\n",
      "Epoch 7/50\n",
      "4336/4337 [============================>.] - ETA: 0s - loss: 0.2491 - accuracy: 0.8968\n",
      "Epoch 7: saving model to /kaggle/output\n",
      "4337/4337 [==============================] - 146s 34ms/step - loss: 0.2491 - accuracy: 0.8968 - val_loss: 0.2949 - val_accuracy: 0.8780 - lr: 1.0000e-04\n",
      "Epoch 8/50\n",
      "4336/4337 [============================>.] - ETA: 0s - loss: 0.2332 - accuracy: 0.9037\n",
      "Epoch 8: saving model to /kaggle/output\n",
      "4337/4337 [==============================] - 144s 33ms/step - loss: 0.2332 - accuracy: 0.9037 - val_loss: 0.2361 - val_accuracy: 0.9048 - lr: 1.0000e-04\n",
      "Epoch 9/50\n",
      "4336/4337 [============================>.] - ETA: 0s - loss: 0.2142 - accuracy: 0.9125\n",
      "Epoch 9: saving model to /kaggle/output\n",
      "4337/4337 [==============================] - 141s 32ms/step - loss: 0.2142 - accuracy: 0.9125 - val_loss: 0.2427 - val_accuracy: 0.8994 - lr: 1.0000e-04\n",
      "Epoch 10/50\n",
      "4336/4337 [============================>.] - ETA: 0s - loss: 0.1936 - accuracy: 0.9215\n",
      "Epoch 10: saving model to /kaggle/output\n",
      "4337/4337 [==============================] - 141s 33ms/step - loss: 0.1936 - accuracy: 0.9215 - val_loss: 0.2788 - val_accuracy: 0.9077 - lr: 1.0000e-04\n",
      "Epoch 11/50\n",
      "4337/4337 [==============================] - ETA: 0s - loss: 0.1720 - accuracy: 0.9314\n",
      "Epoch 11: saving model to /kaggle/output\n",
      "4337/4337 [==============================] - 143s 33ms/step - loss: 0.1720 - accuracy: 0.9314 - val_loss: 0.1779 - val_accuracy: 0.9292 - lr: 1.0000e-04\n",
      "Epoch 12/50\n",
      "4336/4337 [============================>.] - ETA: 0s - loss: 0.1507 - accuracy: 0.9403\n",
      "Epoch 12: saving model to /kaggle/output\n",
      "4337/4337 [==============================] - 144s 33ms/step - loss: 0.1507 - accuracy: 0.9403 - val_loss: 0.2100 - val_accuracy: 0.9152 - lr: 1.0000e-04\n",
      "Epoch 13/50\n",
      "4336/4337 [============================>.] - ETA: 0s - loss: 0.1322 - accuracy: 0.9479\n",
      "Epoch 13: saving model to /kaggle/output\n",
      "4337/4337 [==============================] - 143s 33ms/step - loss: 0.1322 - accuracy: 0.9479 - val_loss: 0.1997 - val_accuracy: 0.9321 - lr: 1.0000e-04\n",
      "Epoch 14/50\n",
      "4336/4337 [============================>.] - ETA: 0s - loss: 0.1153 - accuracy: 0.9549\n",
      "Epoch 14: saving model to /kaggle/output\n",
      "4337/4337 [==============================] - 141s 33ms/step - loss: 0.1153 - accuracy: 0.9549 - val_loss: 0.2299 - val_accuracy: 0.9064 - lr: 1.0000e-04\n",
      "Epoch 15/50\n",
      "4335/4337 [============================>.] - ETA: 0s - loss: 0.1013 - accuracy: 0.9602\n",
      "Epoch 15: saving model to /kaggle/output\n",
      "4337/4337 [==============================] - 141s 33ms/step - loss: 0.1013 - accuracy: 0.9602 - val_loss: 0.1160 - val_accuracy: 0.9542 - lr: 1.0000e-04\n",
      "Epoch 16/50\n",
      "4335/4337 [============================>.] - ETA: 0s - loss: 0.0898 - accuracy: 0.9653\n",
      "Epoch 16: saving model to /kaggle/output\n",
      "4337/4337 [==============================] - 142s 33ms/step - loss: 0.0898 - accuracy: 0.9653 - val_loss: 0.1252 - val_accuracy: 0.9533 - lr: 1.0000e-04\n",
      "Epoch 17/50\n",
      "4337/4337 [==============================] - ETA: 0s - loss: 0.0816 - accuracy: 0.9683\n",
      "Epoch 17: saving model to /kaggle/output\n",
      "4337/4337 [==============================] - 141s 33ms/step - loss: 0.0816 - accuracy: 0.9683 - val_loss: 0.2767 - val_accuracy: 0.8898 - lr: 1.0000e-04\n",
      "Epoch 18/50\n",
      "4336/4337 [============================>.] - ETA: 0s - loss: 0.0734 - accuracy: 0.9719\n",
      "Epoch 18: saving model to /kaggle/output\n",
      "4337/4337 [==============================] - 140s 32ms/step - loss: 0.0734 - accuracy: 0.9719 - val_loss: 0.0518 - val_accuracy: 0.9814 - lr: 1.0000e-04\n",
      "Epoch 19/50\n",
      "4336/4337 [============================>.] - ETA: 0s - loss: 0.0682 - accuracy: 0.9740\n",
      "Epoch 19: saving model to /kaggle/output\n",
      "4337/4337 [==============================] - 147s 34ms/step - loss: 0.0682 - accuracy: 0.9740 - val_loss: 0.1045 - val_accuracy: 0.9648 - lr: 1.0000e-04\n",
      "Epoch 20/50\n",
      "4336/4337 [============================>.] - ETA: 0s - loss: 0.0622 - accuracy: 0.9767\n",
      "Epoch 20: saving model to /kaggle/output\n",
      "4337/4337 [==============================] - 142s 33ms/step - loss: 0.0622 - accuracy: 0.9767 - val_loss: 0.1545 - val_accuracy: 0.9522 - lr: 1.0000e-04\n",
      "Epoch 21/50\n",
      "4336/4337 [============================>.] - ETA: 0s - loss: 0.0579 - accuracy: 0.9780\n",
      "Epoch 21: saving model to /kaggle/output\n",
      "4337/4337 [==============================] - 141s 32ms/step - loss: 0.0579 - accuracy: 0.9780 - val_loss: 0.7151 - val_accuracy: 0.8644 - lr: 1.0000e-04\n",
      "Epoch 22/50\n",
      "4336/4337 [============================>.] - ETA: 0s - loss: 0.0539 - accuracy: 0.9801\n",
      "Epoch 22: saving model to /kaggle/output\n",
      "4337/4337 [==============================] - 142s 33ms/step - loss: 0.0539 - accuracy: 0.9801 - val_loss: 0.1005 - val_accuracy: 0.9612 - lr: 1.0000e-04\n",
      "Epoch 23/50\n",
      "4336/4337 [============================>.] - ETA: 0s - loss: 0.0495 - accuracy: 0.9813\n",
      "Epoch 23: saving model to /kaggle/output\n",
      "4337/4337 [==============================] - 143s 33ms/step - loss: 0.0495 - accuracy: 0.9813 - val_loss: 0.2154 - val_accuracy: 0.9405 - lr: 1.0000e-04\n",
      "Epoch 24/50\n",
      "4336/4337 [============================>.] - ETA: 0s - loss: 0.0476 - accuracy: 0.9823\n",
      "Epoch 24: saving model to /kaggle/output\n",
      "4337/4337 [==============================] - 141s 33ms/step - loss: 0.0476 - accuracy: 0.9823 - val_loss: 0.2642 - val_accuracy: 0.9185 - lr: 1.0000e-04\n",
      "Epoch 25/50\n",
      "4335/4337 [============================>.] - ETA: 0s - loss: 0.0445 - accuracy: 0.9837\n",
      "Epoch 25: saving model to /kaggle/output\n",
      "4337/4337 [==============================] - 141s 32ms/step - loss: 0.0445 - accuracy: 0.9837 - val_loss: 0.1375 - val_accuracy: 0.9479 - lr: 1.0000e-04\n",
      "Epoch 26/50\n",
      "4336/4337 [============================>.] - ETA: 0s - loss: 0.0414 - accuracy: 0.9849\n",
      "Epoch 26: saving model to /kaggle/output\n",
      "4337/4337 [==============================] - 142s 33ms/step - loss: 0.0414 - accuracy: 0.9849 - val_loss: 0.2221 - val_accuracy: 0.9293 - lr: 1.0000e-04\n",
      "Epoch 27/50\n",
      "4337/4337 [==============================] - ETA: 0s - loss: 0.0394 - accuracy: 0.9856\n",
      "Epoch 27: saving model to /kaggle/output\n",
      "4337/4337 [==============================] - 147s 34ms/step - loss: 0.0394 - accuracy: 0.9856 - val_loss: 0.1571 - val_accuracy: 0.9417 - lr: 1.0000e-04\n",
      "Epoch 28/50\n",
      "4337/4337 [==============================] - ETA: 0s - loss: 0.0376 - accuracy: 0.9864\n",
      "Epoch 28: ReduceLROnPlateau reducing learning rate to 9.999999747378752e-06.\n",
      "\n",
      "Epoch 28: saving model to /kaggle/output\n",
      "4337/4337 [==============================] - 142s 33ms/step - loss: 0.0376 - accuracy: 0.9864 - val_loss: 0.1006 - val_accuracy: 0.9694 - lr: 1.0000e-04\n",
      "Epoch 29/50\n",
      "4337/4337 [==============================] - ETA: 0s - loss: 0.0138 - accuracy: 0.9955\n",
      "Epoch 29: saving model to /kaggle/output\n",
      "4337/4337 [==============================] - 141s 33ms/step - loss: 0.0138 - accuracy: 0.9955 - val_loss: 0.0033 - val_accuracy: 0.9993 - lr: 1.0000e-05\n",
      "Epoch 30/50\n",
      "4337/4337 [==============================] - ETA: 0s - loss: 0.0074 - accuracy: 0.9977\n",
      "Epoch 30: saving model to /kaggle/output\n",
      "4337/4337 [==============================] - 141s 32ms/step - loss: 0.0074 - accuracy: 0.9977 - val_loss: 0.0026 - val_accuracy: 0.9995 - lr: 1.0000e-05\n",
      "Epoch 31/50\n",
      "4336/4337 [============================>.] - ETA: 0s - loss: 0.0058 - accuracy: 0.9983\n",
      "Epoch 31: saving model to /kaggle/output\n",
      "4337/4337 [==============================] - 142s 33ms/step - loss: 0.0058 - accuracy: 0.9983 - val_loss: 0.0019 - val_accuracy: 0.9996 - lr: 1.0000e-05\n",
      "Epoch 32/50\n",
      "4337/4337 [==============================] - ETA: 0s - loss: 0.0048 - accuracy: 0.9986\n",
      "Epoch 32: saving model to /kaggle/output\n",
      "4337/4337 [==============================] - 145s 33ms/step - loss: 0.0048 - accuracy: 0.9986 - val_loss: 0.0018 - val_accuracy: 0.9995 - lr: 1.0000e-05\n",
      "Epoch 33/50\n",
      "4337/4337 [==============================] - ETA: 0s - loss: 0.0041 - accuracy: 0.9988\n",
      "Epoch 33: saving model to /kaggle/output\n",
      "4337/4337 [==============================] - 142s 33ms/step - loss: 0.0041 - accuracy: 0.9988 - val_loss: 0.0010 - val_accuracy: 0.9999 - lr: 1.0000e-05\n",
      "Epoch 34/50\n",
      "4337/4337 [==============================] - ETA: 0s - loss: 0.0039 - accuracy: 0.9989\n",
      "Epoch 34: saving model to /kaggle/output\n",
      "4337/4337 [==============================] - 141s 33ms/step - loss: 0.0039 - accuracy: 0.9989 - val_loss: 0.0012 - val_accuracy: 0.9999 - lr: 1.0000e-05\n",
      "Epoch 35/50\n",
      "4337/4337 [==============================] - ETA: 0s - loss: 0.0033 - accuracy: 0.9990\n",
      "Epoch 35: saving model to /kaggle/output\n",
      "4337/4337 [==============================] - 139s 32ms/step - loss: 0.0033 - accuracy: 0.9990 - val_loss: 0.0020 - val_accuracy: 0.9994 - lr: 1.0000e-05\n",
      "Epoch 36/50\n",
      "4336/4337 [============================>.] - ETA: 0s - loss: 0.0028 - accuracy: 0.9992\n",
      "Epoch 36: saving model to /kaggle/output\n",
      "4337/4337 [==============================] - 141s 32ms/step - loss: 0.0028 - accuracy: 0.9992 - val_loss: 0.0023 - val_accuracy: 0.9994 - lr: 1.0000e-05\n",
      "Epoch 37/50\n",
      "4335/4337 [============================>.] - ETA: 0s - loss: 0.0029 - accuracy: 0.9991\n",
      "Epoch 37: saving model to /kaggle/output\n",
      "4337/4337 [==============================] - 140s 32ms/step - loss: 0.0029 - accuracy: 0.9991 - val_loss: 0.0011 - val_accuracy: 0.9997 - lr: 1.0000e-05\n",
      "Epoch 38/50\n",
      "4336/4337 [============================>.] - ETA: 0s - loss: 0.0028 - accuracy: 0.9991\n",
      "Epoch 38: saving model to /kaggle/output\n",
      "4337/4337 [==============================] - 141s 32ms/step - loss: 0.0028 - accuracy: 0.9991 - val_loss: 5.9174e-04 - val_accuracy: 0.9999 - lr: 1.0000e-05\n",
      "Epoch 39/50\n",
      "4337/4337 [==============================] - ETA: 0s - loss: 0.0025 - accuracy: 0.9993\n",
      "Epoch 39: saving model to /kaggle/output\n",
      "4337/4337 [==============================] - 139s 32ms/step - loss: 0.0025 - accuracy: 0.9993 - val_loss: 0.0013 - val_accuracy: 0.9996 - lr: 1.0000e-05\n",
      "Epoch 40/50\n",
      "4336/4337 [============================>.] - ETA: 0s - loss: 0.0024 - accuracy: 0.9993\n",
      "Epoch 40: saving model to /kaggle/output\n",
      "4337/4337 [==============================] - 139s 32ms/step - loss: 0.0024 - accuracy: 0.9993 - val_loss: 8.3851e-04 - val_accuracy: 0.9998 - lr: 1.0000e-05\n",
      "Epoch 41/50\n",
      "4336/4337 [============================>.] - ETA: 0s - loss: 0.0022 - accuracy: 0.9993\n",
      "Epoch 41: saving model to /kaggle/output\n",
      "4337/4337 [==============================] - 140s 32ms/step - loss: 0.0022 - accuracy: 0.9993 - val_loss: 3.7349e-04 - val_accuracy: 0.9999 - lr: 1.0000e-05\n",
      "Epoch 42/50\n",
      "4337/4337 [==============================] - ETA: 0s - loss: 0.0024 - accuracy: 0.9993\n",
      "Epoch 42: saving model to /kaggle/output\n",
      "4337/4337 [==============================] - 141s 32ms/step - loss: 0.0024 - accuracy: 0.9993 - val_loss: 7.1183e-04 - val_accuracy: 0.9999 - lr: 1.0000e-05\n",
      "Epoch 43/50\n",
      "4337/4337 [==============================] - ETA: 0s - loss: 0.0022 - accuracy: 0.9994\n",
      "Epoch 43: saving model to /kaggle/output\n",
      "4337/4337 [==============================] - 138s 32ms/step - loss: 0.0022 - accuracy: 0.9994 - val_loss: 3.2392e-04 - val_accuracy: 0.9999 - lr: 1.0000e-05\n",
      "Epoch 44/50\n",
      "4336/4337 [============================>.] - ETA: 0s - loss: 0.0019 - accuracy: 0.9994\n",
      "Epoch 44: saving model to /kaggle/output\n",
      "4337/4337 [==============================] - 138s 32ms/step - loss: 0.0019 - accuracy: 0.9994 - val_loss: 2.6858e-04 - val_accuracy: 1.0000 - lr: 1.0000e-05\n",
      "Epoch 45/50\n",
      "4336/4337 [============================>.] - ETA: 0s - loss: 0.0022 - accuracy: 0.9993\n",
      "Epoch 45: saving model to /kaggle/output\n",
      "4337/4337 [==============================] - 139s 32ms/step - loss: 0.0022 - accuracy: 0.9993 - val_loss: 2.3544e-04 - val_accuracy: 0.9999 - lr: 1.0000e-05\n",
      "Epoch 46/50\n",
      "4336/4337 [============================>.] - ETA: 0s - loss: 0.0018 - accuracy: 0.9994\n",
      "Epoch 46: saving model to /kaggle/output\n",
      "4337/4337 [==============================] - 139s 32ms/step - loss: 0.0018 - accuracy: 0.9994 - val_loss: 3.7190e-04 - val_accuracy: 0.9999 - lr: 1.0000e-05\n",
      "Epoch 47/50\n",
      "4337/4337 [==============================] - ETA: 0s - loss: 0.0017 - accuracy: 0.9994\n",
      "Epoch 47: saving model to /kaggle/output\n",
      "4337/4337 [==============================] - 138s 32ms/step - loss: 0.0017 - accuracy: 0.9994 - val_loss: 4.0016e-04 - val_accuracy: 0.9999 - lr: 1.0000e-05\n",
      "Epoch 48/50\n",
      "4335/4337 [============================>.] - ETA: 0s - loss: 0.0019 - accuracy: 0.9994\n",
      "Epoch 48: saving model to /kaggle/output\n",
      "4337/4337 [==============================] - 139s 32ms/step - loss: 0.0019 - accuracy: 0.9994 - val_loss: 4.5745e-04 - val_accuracy: 0.9999 - lr: 1.0000e-05\n",
      "Epoch 49/50\n",
      "4335/4337 [============================>.] - ETA: 0s - loss: 0.0015 - accuracy: 0.9996\n",
      "Epoch 49: saving model to /kaggle/output\n",
      "4337/4337 [==============================] - 139s 32ms/step - loss: 0.0015 - accuracy: 0.9996 - val_loss: 7.5933e-04 - val_accuracy: 0.9998 - lr: 1.0000e-05\n",
      "Epoch 50/50\n",
      "4335/4337 [============================>.] - ETA: 0s - loss: 0.0016 - accuracy: 0.9995\n",
      "Epoch 50: saving model to /kaggle/output\n",
      "4337/4337 [==============================] - 138s 32ms/step - loss: 0.0016 - accuracy: 0.9995 - val_loss: 4.2896e-04 - val_accuracy: 0.9999 - lr: 1.0000e-05\n"
     ]
    }
   ],
   "source": [
    "model,callbacks=create_model((50,50,3))\n",
    "model.summary()\n",
    "#Fit model\n",
    "history = model.fit(\n",
    "      train_generator,\n",
    "      epochs=50,\n",
    "      verbose=1,\n",
    "      validation_data = validation_generator,callbacks=callbacks)\n"
   ]
  },
  {
   "cell_type": "code",
   "execution_count": 13,
   "id": "f68c4cf6",
   "metadata": {
    "execution": {
     "iopub.execute_input": "2024-03-09T15:50:15.616801Z",
     "iopub.status.busy": "2024-03-09T15:50:15.616109Z",
     "iopub.status.idle": "2024-03-09T15:50:15.859088Z",
     "shell.execute_reply": "2024-03-09T15:50:15.858213Z"
    },
    "papermill": {
     "duration": 8.637777,
     "end_time": "2024-03-09T15:50:15.860994",
     "exception": false,
     "start_time": "2024-03-09T15:50:07.223217",
     "status": "completed"
    },
    "tags": []
   },
   "outputs": [
    {
     "data": {
      "image/png": "[encoded data removed]",
      "text/plain": [
       "<Figure size 640x480 with 1 Axes>"
      ]
     },
     "metadata": {},
     "output_type": "display_data"
    }
   ],
   "source": [
    "import matplotlib.pyplot as plt\n",
    "acc = history.history['accuracy']\n",
    "val_acc = history.history['val_accuracy']\n",
    "loss = history.history['loss']\n",
    "val_loss = history.history['val_loss']\n",
    "\n",
    "epochs = range(len(acc))\n",
    "plt.plot(epochs, acc, 'r', label='Training accuracy', markersize=5)\n",
    "plt.plot(epochs, val_acc, 'b', label='Validation accuracy', markersize=5)\n",
    "plt.grid(True)\n",
    "plt.xlabel('Epochs', fontsize=12, fontweight='bold')  # Bold and increase font size for x-axis label\n",
    "plt.ylabel('Accuracy', fontsize=12, fontweight='bold')  # Bold and increase font size for y-axis label\n",
    "plt.legend(loc='lower right')\n",
    "plt.show()\n"
   ]
  },
  {
   "cell_type": "code",
   "execution_count": 14,
   "id": "216af56b",
   "metadata": {
    "execution": {
     "iopub.execute_input": "2024-03-09T15:50:33.039696Z",
     "iopub.status.busy": "2024-03-09T15:50:33.039324Z",
     "iopub.status.idle": "2024-03-09T15:50:33.244539Z",
     "shell.execute_reply": "2024-03-09T15:50:33.243742Z"
    },
    "papermill": {
     "duration": 8.614537,
     "end_time": "2024-03-09T15:50:33.246464",
     "exception": false,
     "start_time": "2024-03-09T15:50:24.631927",
     "status": "completed"
    },
    "tags": []
   },
   "outputs": [
    {
     "data": {
      "image/png": "[encoded data removed]",
      "text/plain": [
       "<Figure size 640x480 with 1 Axes>"
      ]
     },
     "metadata": {},
     "output_type": "display_data"
    }
   ],
   "source": [
    "plt.plot(epochs, loss, 'r', label='Training loss', markersize=5)  # Increase markersize\n",
    "plt.plot(epochs, val_loss, 'b', label='Validation loss', markersize=5)  # Increase markersize\n",
    "plt.xlabel('Epochs', fontsize=12, fontweight='bold')  # Bold and increase font size for x-axis label\n",
    "plt.ylabel('Accuracy', fontsize=12, fontweight='bold')  # Bold and increase font size for y-axis label\n",
    "plt.grid(True)  # Turn on grid\n",
    "plt.legend(loc=0)\n",
    "plt.show()"
   ]
  }
 ],
 "metadata": {
  "kaggle": {
   "accelerator": "nvidiaTeslaT4",
   "dataSources": [
    {
     "datasetId": 7415,
     "sourceId": 10564,
     "sourceType": "datasetVersion"
    }
   ],
   "dockerImageVersionId": 30648,
   "isGpuEnabled": true,
   "isInternetEnabled": true,
   "language": "python",
   "sourceType": "notebook"
  },
  "kernelspec": {
   "display_name": "Python 3",
   "language": "python",
   "name": "python3"
  },
  "language_info": {
   "codemirror_mode": {
    "name": "ipython",
    "version": 3
   },
   "file_extension": ".py",
   "mimetype": "text/x-python",
   "name": "python",
   "nbconvert_exporter": "python",
   "pygments_lexer": "ipython3",
   "version": "3.10.13"
  },
  "papermill": {
   "default_parameters": {},
   "duration": 8993.251651,
   "end_time": "2024-03-09T15:50:44.791945",
   "environment_variables": {},
   "exception": null,
   "input_path": "__notebook__.ipynb",
   "output_path": "__notebook__.ipynb",
   "parameters": {},
   "start_time": "2024-03-09T13:20:51.540294",
   "version": "2.5.0"
  }
 },
 "nbformat": 4,
 "nbformat_minor": 5
}
